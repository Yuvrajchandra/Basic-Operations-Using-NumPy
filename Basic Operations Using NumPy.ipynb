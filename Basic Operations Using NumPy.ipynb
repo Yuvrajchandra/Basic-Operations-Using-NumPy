{
 "cells": [
  {
   "cell_type": "markdown",
   "id": "b8e1f746",
   "metadata": {},
   "source": [
    "### How to Import NumPy as np and Print the Version Number?"
   ]
  },
  {
   "cell_type": "code",
   "execution_count": 1,
   "id": "667e2340",
   "metadata": {},
   "outputs": [
    {
     "name": "stdout",
     "output_type": "stream",
     "text": [
      "1.20.1\n"
     ]
    }
   ],
   "source": [
    "import numpy as np\n",
    "print(np.__version__)"
   ]
  },
  {
   "cell_type": "markdown",
   "id": "f8462f07",
   "metadata": {},
   "source": [
    "### Using Tuple to Create a NumPy Array"
   ]
  },
  {
   "cell_type": "code",
   "execution_count": 2,
   "id": "146d9f1b",
   "metadata": {},
   "outputs": [
    {
     "data": {
      "text/plain": [
       "array([23, 32, 65, 85])"
      ]
     },
     "execution_count": 2,
     "metadata": {},
     "output_type": "execute_result"
    }
   ],
   "source": [
    "arrObj = np.array((23, 32, 65, 85))\n",
    "arrObj"
   ]
  },
  {
   "cell_type": "markdown",
   "id": "1ab4eaca",
   "metadata": {},
   "source": [
    "### Using List to Create a NumPy Array"
   ]
  },
  {
   "cell_type": "code",
   "execution_count": 3,
   "id": "a24c3312",
   "metadata": {},
   "outputs": [
    {
     "data": {
      "text/plain": [
       "array([43, 23, 75, 15])"
      ]
     },
     "execution_count": 3,
     "metadata": {},
     "output_type": "execute_result"
    }
   ],
   "source": [
    "arrObj = np.array([43, 23, 75, 15])\n",
    "arrObj"
   ]
  },
  {
   "cell_type": "markdown",
   "id": "56b8b460",
   "metadata": {},
   "source": [
    "### 0-D Arrays"
   ]
  },
  {
   "cell_type": "code",
   "execution_count": 4,
   "id": "037abedc",
   "metadata": {},
   "outputs": [
    {
     "data": {
      "text/plain": [
       "array(21)"
      ]
     },
     "execution_count": 4,
     "metadata": {},
     "output_type": "execute_result"
    }
   ],
   "source": [
    "arrObj = np.array(21)\n",
    "arrObj"
   ]
  },
  {
   "cell_type": "markdown",
   "id": "39f8216b",
   "metadata": {},
   "source": [
    "### 1-D Arrays"
   ]
  },
  {
   "cell_type": "code",
   "execution_count": 6,
   "id": "5701abf5",
   "metadata": {},
   "outputs": [
    {
     "data": {
      "text/plain": [
       "array([43, 23, 75, 15])"
      ]
     },
     "execution_count": 6,
     "metadata": {},
     "output_type": "execute_result"
    }
   ],
   "source": [
    "arrObj = np.array([43, 23, 75, 15])\n",
    "arrObj"
   ]
  },
  {
   "cell_type": "markdown",
   "id": "0159ed0c",
   "metadata": {},
   "source": [
    "### 2-D Arrays"
   ]
  },
  {
   "cell_type": "code",
   "execution_count": 8,
   "id": "4db835f7",
   "metadata": {},
   "outputs": [
    {
     "data": {
      "text/plain": [
       "array([[12, 43, 21],\n",
       "       [67, 32, 98]])"
      ]
     },
     "execution_count": 8,
     "metadata": {},
     "output_type": "execute_result"
    }
   ],
   "source": [
    "arrObj = np.array([[12, 43, 21], [67, 32, 98]])\n",
    "arrObj"
   ]
  },
  {
   "cell_type": "markdown",
   "id": "a63aef07",
   "metadata": {},
   "source": [
    "### 3-D Arrays"
   ]
  },
  {
   "cell_type": "code",
   "execution_count": 9,
   "id": "8cb8b4fe",
   "metadata": {},
   "outputs": [
    {
     "data": {
      "text/plain": [
       "array([[[23, 45, 22],\n",
       "        [45, 76, 23]],\n",
       "\n",
       "       [[67, 23, 56],\n",
       "        [12, 76, 63]]])"
      ]
     },
     "execution_count": 9,
     "metadata": {},
     "output_type": "execute_result"
    }
   ],
   "source": [
    "arrObj = np.array([[[23, 45, 22], [45, 76, 23]], [[67, 23, 56], [12, 76, 63]]])\n",
    "arrObj"
   ]
  },
  {
   "cell_type": "markdown",
   "id": "1fb84ba9",
   "metadata": {},
   "source": [
    "### n-Dimensional Array"
   ]
  },
  {
   "cell_type": "code",
   "execution_count": 3,
   "id": "a8d345b8",
   "metadata": {},
   "outputs": [
    {
     "data": {
      "text/plain": [
       "array([[[[[23, 22, 65, 44]]]]])"
      ]
     },
     "execution_count": 3,
     "metadata": {},
     "output_type": "execute_result"
    }
   ],
   "source": [
    "arrObj = np.array([23, 22, 65, 44], ndmin=5)\n",
    "arrObj"
   ]
  },
  {
   "cell_type": "markdown",
   "id": "eb7ed6f0",
   "metadata": {},
   "source": [
    "### Find Dimensions of an Array"
   ]
  },
  {
   "cell_type": "code",
   "execution_count": 7,
   "id": "54a8d75c",
   "metadata": {},
   "outputs": [
    {
     "name": "stdout",
     "output_type": "stream",
     "text": [
      "0\n",
      "1\n",
      "2\n",
      "3\n"
     ]
    }
   ],
   "source": [
    "arrObj1 = np.array(21)\n",
    "arrObj2 = np.array([43, 23, 75, 15])\n",
    "arrObj3 = np.array([[12, 43, 21], [67, 32, 98]])\n",
    "arrObj4 = np.array([[[23, 45, 22], [45, 76, 23]], [[67, 23, 56], [12, 76, 63]]])\n",
    "print(arrObj1.ndim)\n",
    "print(arrObj2.ndim)\n",
    "print(arrObj3.ndim)\n",
    "print(arrObj4.ndim)"
   ]
  },
  {
   "cell_type": "markdown",
   "id": "3f017a7b",
   "metadata": {},
   "source": [
    "### Access the Elements of the 1-D, 2-D, and 3-D Arrays"
   ]
  },
  {
   "cell_type": "code",
   "execution_count": 9,
   "id": "495eb85f",
   "metadata": {},
   "outputs": [
    {
     "name": "stdout",
     "output_type": "stream",
     "text": [
      "75\n",
      "21\n",
      "23\n"
     ]
    }
   ],
   "source": [
    "arrObj1 = np.array([43, 23, 75, 15])\n",
    "arrObj2 = np.array([[12, 43, 21], [67, 32, 98]])\n",
    "arrObj3 = np.array([[[23, 45, 22], [45, 76, 23]], [[67, 23, 56], [12, 76, 63]]])\n",
    "print(arrObj1[2])\n",
    "print(arrObj2[0, 2])\n",
    "print(arrObj3[0, 1, 2])"
   ]
  },
  {
   "cell_type": "markdown",
   "id": "90df962b",
   "metadata": {},
   "source": [
    "### Check the Data Type of the NumPy Array Object"
   ]
  },
  {
   "cell_type": "code",
   "execution_count": 11,
   "id": "db6198f4",
   "metadata": {},
   "outputs": [
    {
     "name": "stdout",
     "output_type": "stream",
     "text": [
      "int32\n",
      "float64\n",
      "<U7\n"
     ]
    }
   ],
   "source": [
    "arrObj1 = np.array([1, 2, 3, 4])\n",
    "arrObj2 = np.array([1.3, 6.8, 3.5, 9.2])\n",
    "arrObj3 = np.array(['Welcome', 'to', 'MUO'])\n",
    "print(arrObj1.dtype)\n",
    "print(arrObj2.dtype)\n",
    "print(arrObj3.dtype)"
   ]
  },
  {
   "cell_type": "markdown",
   "id": "07c88a1c",
   "metadata": {},
   "source": [
    "### Converting Integer Array to Float Array"
   ]
  },
  {
   "cell_type": "code",
   "execution_count": 3,
   "id": "e4c366ae",
   "metadata": {},
   "outputs": [
    {
     "data": {
      "text/plain": [
       "array([43., 23., 75., 15.], dtype=float32)"
      ]
     },
     "execution_count": 3,
     "metadata": {},
     "output_type": "execute_result"
    }
   ],
   "source": [
    "arrObj = np.array([43, 23, 75, 15])\n",
    "floatArr = arrObj.astype('f')\n",
    "floatArr"
   ]
  },
  {
   "cell_type": "markdown",
   "id": "7c29df15",
   "metadata": {},
   "source": [
    "### Converting Float Array to Integer Array"
   ]
  },
  {
   "cell_type": "code",
   "execution_count": 4,
   "id": "912f2462",
   "metadata": {},
   "outputs": [
    {
     "data": {
      "text/plain": [
       "array([1, 6, 3, 9], dtype=int32)"
      ]
     },
     "execution_count": 4,
     "metadata": {},
     "output_type": "execute_result"
    }
   ],
   "source": [
    "arrObj = np.array([1.3, 6.8, 3.5, 9.2])\n",
    "intArr = arrObj.astype('i')\n",
    "intArr"
   ]
  },
  {
   "cell_type": "markdown",
   "id": "cea16363",
   "metadata": {},
   "source": [
    "### Copy a NumPy Array Into Another Array"
   ]
  },
  {
   "cell_type": "code",
   "execution_count": 6,
   "id": "ee752807",
   "metadata": {},
   "outputs": [
    {
     "data": {
      "text/plain": [
       "array([43, 23, 75, 15])"
      ]
     },
     "execution_count": 6,
     "metadata": {},
     "output_type": "execute_result"
    }
   ],
   "source": [
    "oldArr = np.array([43, 23, 75, 15])\n",
    "newArr = np.copy(oldArr)\n",
    "newArr"
   ]
  },
  {
   "cell_type": "markdown",
   "id": "3ae39db9",
   "metadata": {},
   "source": [
    "### Find the Shape of an NumPy Array"
   ]
  },
  {
   "cell_type": "code",
   "execution_count": 7,
   "id": "24e4952b",
   "metadata": {},
   "outputs": [
    {
     "data": {
      "text/plain": [
       "(2, 3)"
      ]
     },
     "execution_count": 7,
     "metadata": {},
     "output_type": "execute_result"
    }
   ],
   "source": [
    "arrObj = np.array([[12, 43, 21], [67, 32, 98]])\n",
    "arrObj.shape"
   ]
  },
  {
   "cell_type": "markdown",
   "id": "d044d7c8",
   "metadata": {},
   "source": [
    "### Reshape an Array"
   ]
  },
  {
   "cell_type": "code",
   "execution_count": 8,
   "id": "8c7f32b5",
   "metadata": {},
   "outputs": [
    {
     "data": {
      "text/plain": [
       "array([[43, 23, 75],\n",
       "       [15, 34, 45]])"
      ]
     },
     "execution_count": 8,
     "metadata": {},
     "output_type": "execute_result"
    }
   ],
   "source": [
    "arrObj = np.array([43, 23, 75, 15, 34, 45])\n",
    "reshapedArr = arrObj.reshape(2, 3)\n",
    "reshapedArr"
   ]
  },
  {
   "cell_type": "markdown",
   "id": "0488a81c",
   "metadata": {},
   "source": [
    "### Flatten an Array"
   ]
  },
  {
   "cell_type": "code",
   "execution_count": 10,
   "id": "0d460d68",
   "metadata": {},
   "outputs": [
    {
     "data": {
      "text/plain": [
       "array([12, 43, 21, 67, 32, 98])"
      ]
     },
     "execution_count": 10,
     "metadata": {},
     "output_type": "execute_result"
    }
   ],
   "source": [
    "arrObj = np.array([[12, 43, 21], [67, 32, 98]])\n",
    "flattenedArr = arrObj.reshape(-1)\n",
    "flattenedArr"
   ]
  },
  {
   "cell_type": "markdown",
   "id": "4d2c9315",
   "metadata": {},
   "source": [
    "### Sorting 1-D Array of Integers"
   ]
  },
  {
   "cell_type": "code",
   "execution_count": 2,
   "id": "c55dadce",
   "metadata": {},
   "outputs": [
    {
     "data": {
      "text/plain": [
       "array([15, 23, 43, 75])"
      ]
     },
     "execution_count": 2,
     "metadata": {},
     "output_type": "execute_result"
    }
   ],
   "source": [
    "arrObj = np.array([43, 23, 75, 15])\n",
    "np.sort(arrObj)"
   ]
  },
  {
   "cell_type": "markdown",
   "id": "1997ba3c",
   "metadata": {},
   "source": [
    "### Sorting 1-D Array of Strings"
   ]
  },
  {
   "cell_type": "code",
   "execution_count": 3,
   "id": "8aebe0bd",
   "metadata": {},
   "outputs": [
    {
     "data": {
      "text/plain": [
       "array(['Golang', 'JavaScript', 'Python', 'Solidity'], dtype='<U10')"
      ]
     },
     "execution_count": 3,
     "metadata": {},
     "output_type": "execute_result"
    }
   ],
   "source": [
    "arrObj = np.array([\"Python\", \"JavaScript\", \"Solidity\", \"Golang\"])\n",
    "np.sort(arrObj)"
   ]
  },
  {
   "cell_type": "markdown",
   "id": "7bf461e1",
   "metadata": {},
   "source": [
    "### Sorting 2-D Array of Integers"
   ]
  },
  {
   "cell_type": "code",
   "execution_count": 4,
   "id": "d678b466",
   "metadata": {},
   "outputs": [
    {
     "data": {
      "text/plain": [
       "array([[12, 21, 43],\n",
       "       [32, 67, 98]])"
      ]
     },
     "execution_count": 4,
     "metadata": {},
     "output_type": "execute_result"
    }
   ],
   "source": [
    "arrObj = np.array([[12, 43, 21], [67, 32, 98]])\n",
    "np.sort(arrObj)"
   ]
  }
 ],
 "metadata": {
  "kernelspec": {
   "display_name": "Python 3",
   "language": "python",
   "name": "python3"
  },
  "language_info": {
   "codemirror_mode": {
    "name": "ipython",
    "version": 3
   },
   "file_extension": ".py",
   "mimetype": "text/x-python",
   "name": "python",
   "nbconvert_exporter": "python",
   "pygments_lexer": "ipython3",
   "version": "3.8.8"
  }
 },
 "nbformat": 4,
 "nbformat_minor": 5
}
